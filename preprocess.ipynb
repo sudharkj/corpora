{
 "nbformat": 4,
 "nbformat_minor": 0,
 "metadata": {
  "colab": {
   "provenance": []
  },
  "kernelspec": {
   "name": "python3",
   "display_name": "Python 3"
  },
  "language_info": {
   "name": "python"
  }
 },
 "cells": [
  {
   "cell_type": "code",
   "execution_count": 1,
   "metadata": {
    "colab": {
     "base_uri": "https://localhost:8080/"
    },
    "id": "ZqMwtBxnEL5R",
    "outputId": "217d3828-6e27-44e9-c22e-2eb1d99288c9"
   },
   "outputs": [
    {
     "output_type": "stream",
     "name": "stdout",
     "text": [
      "Mounted at /content/gdrive\n"
     ]
    }
   ],
   "source": [
    "# mount google drive\n",
    "# from google.colab import drive\n",
    "# drive.mount('/content/gdrive', force_remount=True)"
   ]
  },
  {
   "cell_type": "code",
   "source": [
    "from collections import defaultdict\n",
    "from pathlib import Path\n",
    "import os\n",
    "import math\n",
    "import shutil\n",
    "import json"
   ],
   "metadata": {
    "id": "q4wLN2vrEiX4"
   },
   "execution_count": 33,
   "outputs": []
  },
  {
   "cell_type": "code",
   "source": [
    "# BASE_PATH = \"/content/gdrive/MyDrive/uc-berkeley/w266/data\"\n",
    "BASE_PATH = \"data\"\n",
    "RAW_PATH = f\"{BASE_PATH}/raw\"\n",
    "PREPROCESSED_PATH = f\"{BASE_PATH}/preprocessed\""
   ],
   "metadata": {
    "id": "i6khjDGHEj1_"
   },
   "execution_count": 34,
   "outputs": []
  },
  {
   "cell_type": "code",
   "source": [
    "TRAIN_DATA_PATH = f\"{PREPROCESSED_PATH}/train\"\n",
    "shutil.rmtree(TRAIN_DATA_PATH, ignore_errors=True)\n",
    "Path(TRAIN_DATA_PATH).mkdir(parents=True, exist_ok=True)\n",
    "\n",
    "TEST_DATA_PATH = f\"{PREPROCESSED_PATH}/test\"\n",
    "shutil.rmtree(TEST_DATA_PATH, ignore_errors=True)\n",
    "Path(TEST_DATA_PATH).mkdir(parents=True, exist_ok=True)"
   ],
   "metadata": {
    "id": "WP__KTWZQUSx"
   },
   "execution_count": 35,
   "outputs": []
  },
  {
   "cell_type": "code",
   "source": [
    "code_to_name = {\n",
    "    \"en\": \"english\",\n",
    "    \"de\": \"german\",\n",
    "    \"es\": \"spanish\",\n",
    "    \"it\": \"italian\",\n",
    "    \"pt\": \"portuguese\",\n",
    "    \"ru\": \"russian\",\n",
    "    \"zh-cn\": \"Chinese\",\n",
    "    \"fr\": \"french\"\n",
    "}"
   ],
   "metadata": {
    "id": "K7oiiW5AEv5p"
   },
   "execution_count": 36,
   "outputs": []
  },
  {
   "cell_type": "code",
   "source": [
    "for dirname in os.listdir(RAW_PATH):\n",
    "  raw_data = defaultdict(dict)\n",
    "\n",
    "  raw_files_path = f\"{RAW_PATH}/{dirname}\"\n",
    "  print(\"Completed\", raw_files_path)\n",
    "  raw_files = os.listdir(raw_files_path)\n",
    "  for raw_file in raw_files:\n",
    "    text_id, lang_code = raw_file[:-4].split('_')\n",
    "\n",
    "    raw_text = []\n",
    "    with open(f\"{raw_files_path}/{raw_file}\", \"r\") as opened_raw_file:\n",
    "      while opened_raw_file:\n",
    "        read_line = opened_raw_file.readline()\n",
    "        if read_line == \"\":\n",
    "          break\n",
    "        raw_text.append(read_line)\n",
    "\n",
    "    raw_data[text_id][code_to_name[lang_code]] = \" \".join(raw_text)\n",
    "\n",
    "  limit = math.floor(len(raw_data) * .8)\n",
    "  for id, structured_data in list(raw_data.items())[:limit]:\n",
    "    if len(structured_data) != 2:\n",
    "      continue\n",
    "    with open(f\"{TRAIN_DATA_PATH}/{id}.json\", \"w\") as st_file:\n",
    "      json.dump(structured_data, st_file, indent=2)\n",
    "\n",
    "  for id, structured_data in list(raw_data.items())[limit:]:\n",
    "    if len(structured_data) != 2:\n",
    "      continue\n",
    "    with open(f\"{TEST_DATA_PATH}/{id}.json\", \"w\") as st_file:\n",
    "      json.dump(structured_data, st_file, indent=2)"
   ],
   "metadata": {
    "colab": {
     "base_uri": "https://localhost:8080/"
    },
    "id": "GZzGcS51F_8C",
    "outputId": "c95fc5cf-ff65-4c4c-e85b-3994829eb662"
   },
   "execution_count": 37,
   "outputs": [
    {
     "output_type": "stream",
     "name": "stdout",
     "text": [
      "Completed /content/gdrive/MyDrive/uc-berkeley/w266/data/raw/eng_ger\n",
      "Completed /content/gdrive/MyDrive/uc-berkeley/w266/data/raw/eng_spa\n",
      "Completed /content/gdrive/MyDrive/uc-berkeley/w266/data/raw/eng_ita\n",
      "Completed /content/gdrive/MyDrive/uc-berkeley/w266/data/raw/eng_por\n",
      "Completed /content/gdrive/MyDrive/uc-berkeley/w266/data/raw/eng_rus\n",
      "Completed /content/gdrive/MyDrive/uc-berkeley/w266/data/raw/eng_chi\n",
      "Completed /content/gdrive/MyDrive/uc-berkeley/w266/data/raw/eng_fre\n"
     ]
    }
   ]
  },
  {
   "cell_type": "code",
   "source": [],
   "metadata": {
    "id": "SjIkiIpNMbSd"
   },
   "execution_count": null,
   "outputs": []
  }
 ]
}
